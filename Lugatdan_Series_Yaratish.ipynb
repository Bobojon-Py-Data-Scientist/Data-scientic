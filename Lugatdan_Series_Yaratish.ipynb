{
  "nbformat": 4,
  "nbformat_minor": 0,
  "metadata": {
    "colab": {
      "provenance": [],
      "authorship_tag": "ABX9TyNmKacApsIZeKw91CRBRz2e",
      "include_colab_link": true
    },
    "kernelspec": {
      "name": "python3",
      "display_name": "Python 3"
    },
    "language_info": {
      "name": "python"
    }
  },
  "cells": [
    {
      "cell_type": "markdown",
      "metadata": {
        "id": "view-in-github",
        "colab_type": "text"
      },
      "source": [
        "<a href=\"https://colab.research.google.com/github/Bobojon-Py-Data-Scientist/Data-scientic/blob/main/Lugatdan_Series_Yaratish.ipynb\" target=\"_parent\"><img src=\"https://colab.research.google.com/assets/colab-badge.svg\" alt=\"Open In Colab\"/></a>"
      ]
    },
    {
      "cell_type": "markdown",
      "source": [
        "##LuGatdan Series yaratish\n",
        "\n"
      ],
      "metadata": {
        "id": "0Xflf-QlCQvW"
      }
    },
    {
      "cell_type": "code",
      "source": [
        "import pandas as pd\n"
      ],
      "metadata": {
        "id": "5QAf_kuZEJgk"
      },
      "execution_count": null,
      "outputs": []
    },
    {
      "cell_type": "code",
      "source": [
        "import numpy as np\n",
        "from pandas import Series"
      ],
      "metadata": {
        "id": "sGeM69wmENOl"
      },
      "execution_count": null,
      "outputs": []
    },
    {
      "cell_type": "code",
      "source": [
        "cars_dict =  {'Malibu':5000, 'Lacetti':2000, 'Tesla':400, 'Honda':3200, 'Toyota':2100}"
      ],
      "metadata": {
        "id": "lbYpn8DmESfr"
      },
      "execution_count": 6,
      "outputs": []
    },
    {
      "cell_type": "code",
      "source": [
        "type(cars_dict)"
      ],
      "metadata": {
        "id": "dxzE57y8FAJu",
        "colab": {
          "base_uri": "https://localhost:8080/"
        },
        "outputId": "0ae49022-da8f-4483-8d37-cea59e4017b4"
      },
      "execution_count": 7,
      "outputs": [
        {
          "output_type": "execute_result",
          "data": {
            "text/plain": [
              "dict"
            ]
          },
          "metadata": {},
          "execution_count": 7
        }
      ]
    },
    {
      "cell_type": "code",
      "source": [
        "cars1 = Series(cars_dict)"
      ],
      "metadata": {
        "id": "FPyUnjbYHjMm"
      },
      "execution_count": 8,
      "outputs": []
    },
    {
      "cell_type": "code",
      "source": [
        "cars1"
      ],
      "metadata": {
        "colab": {
          "base_uri": "https://localhost:8080/"
        },
        "id": "fBfx5Hw_HsRi",
        "outputId": "606c8843-535b-4ef3-ebac-b496552bc8cd"
      },
      "execution_count": 9,
      "outputs": [
        {
          "output_type": "execute_result",
          "data": {
            "text/plain": [
              "Malibu     5000\n",
              "Lacetti    2000\n",
              "Tesla       400\n",
              "Honda      3200\n",
              "Toyota     2100\n",
              "dtype: int64"
            ]
          },
          "metadata": {},
          "execution_count": 9
        }
      ]
    },
    {
      "cell_type": "code",
      "source": [
        "type(cars1)"
      ],
      "metadata": {
        "colab": {
          "base_uri": "https://localhost:8080/"
        },
        "id": "yck6vxmzHtXT",
        "outputId": "83da7d58-a8a7-4736-ceae-f006c2da9f99"
      },
      "execution_count": 10,
      "outputs": [
        {
          "output_type": "execute_result",
          "data": {
            "text/plain": [
              "pandas.core.series.Series"
            ]
          },
          "metadata": {},
          "execution_count": 10
        }
      ]
    },
    {
      "cell_type": "code",
      "source": [
        "cars1 = Series( {'Malibu':5000, 'Lacetti':2000, 'Tesla':400, 'Honda':3200, 'Toyota':2100})"
      ],
      "metadata": {
        "id": "eHW0Vdu8HxSl"
      },
      "execution_count": 11,
      "outputs": []
    },
    {
      "cell_type": "code",
      "source": [
        "cars1\n"
      ],
      "metadata": {
        "colab": {
          "base_uri": "https://localhost:8080/"
        },
        "id": "PG6hQNa1H9-I",
        "outputId": "f9a906b9-fa4d-4618-ab47-cd29b3a97582"
      },
      "execution_count": 12,
      "outputs": [
        {
          "output_type": "execute_result",
          "data": {
            "text/plain": [
              "Malibu     5000\n",
              "Lacetti    2000\n",
              "Tesla       400\n",
              "Honda      3200\n",
              "Toyota     2100\n",
              "dtype: int64"
            ]
          },
          "metadata": {},
          "execution_count": 12
        }
      ]
    },
    {
      "cell_type": "code",
      "source": [
        "'Malibu' in cars1\n"
      ],
      "metadata": {
        "colab": {
          "base_uri": "https://localhost:8080/"
        },
        "id": "8ofwbOptH_0c",
        "outputId": "77484278-9b14-4ee1-e9c0-8a265ae900fe"
      },
      "execution_count": 13,
      "outputs": [
        {
          "output_type": "execute_result",
          "data": {
            "text/plain": [
              "True"
            ]
          },
          "metadata": {},
          "execution_count": 13
        }
      ]
    },
    {
      "cell_type": "code",
      "source": [
        "'BMW' in cars1"
      ],
      "metadata": {
        "colab": {
          "base_uri": "https://localhost:8080/"
        },
        "id": "8Dx80XSdIGnN",
        "outputId": "bdbc0e5e-16bf-4b44-d0de-0eddb1977462"
      },
      "execution_count": 14,
      "outputs": [
        {
          "output_type": "execute_result",
          "data": {
            "text/plain": [
              "False"
            ]
          },
          "metadata": {},
          "execution_count": 14
        }
      ]
    },
    {
      "cell_type": "code",
      "source": [
        "cars1['Toyota']"
      ],
      "metadata": {
        "colab": {
          "base_uri": "https://localhost:8080/"
        },
        "id": "5QMitM_5IKU2",
        "outputId": "62d1beb5-fc53-4dcd-ff7a-c1a2de345cea"
      },
      "execution_count": 17,
      "outputs": [
        {
          "output_type": "execute_result",
          "data": {
            "text/plain": [
              "2100"
            ]
          },
          "metadata": {},
          "execution_count": 17
        }
      ]
    },
    {
      "cell_type": "code",
      "source": [
        "models = ['Toyota', 'Tesla','Lacetti', 'BMW', 'Malibu','Honda']"
      ],
      "metadata": {
        "id": "cE3isdIpIOiF"
      },
      "execution_count": 18,
      "outputs": []
    },
    {
      "cell_type": "code",
      "source": [
        "cars2= Series(cars1, index=models) #cars1 ni orniga cars_dict royhatniyozsak boladi."
      ],
      "metadata": {
        "id": "iA0JliCVIyvj"
      },
      "execution_count": 21,
      "outputs": []
    },
    {
      "cell_type": "code",
      "source": [
        "cars2"
      ],
      "metadata": {
        "colab": {
          "base_uri": "https://localhost:8080/"
        },
        "id": "6geBWbbhI-iC",
        "outputId": "b02cea34-618d-44ca-d75b-7171d540f621"
      },
      "execution_count": 22,
      "outputs": [
        {
          "output_type": "execute_result",
          "data": {
            "text/plain": [
              "Toyota     2100.0\n",
              "Tesla       400.0\n",
              "Lacetti    2000.0\n",
              "BMW           NaN\n",
              "Malibu     5000.0\n",
              "Honda      3200.0\n",
              "dtype: float64"
            ]
          },
          "metadata": {},
          "execution_count": 22
        }
      ]
    }
  ]
}