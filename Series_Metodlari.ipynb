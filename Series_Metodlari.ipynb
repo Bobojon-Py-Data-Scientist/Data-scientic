{
  "nbformat": 4,
  "nbformat_minor": 0,
  "metadata": {
    "colab": {
      "provenance": [],
      "authorship_tag": "ABX9TyOdaQOcR/lT8MWMgt2fqKBh",
      "include_colab_link": true
    },
    "kernelspec": {
      "name": "python3",
      "display_name": "Python 3"
    },
    "language_info": {
      "name": "python"
    }
  },
  "cells": [
    {
      "cell_type": "markdown",
      "metadata": {
        "id": "view-in-github",
        "colab_type": "text"
      },
      "source": [
        "<a href=\"https://colab.research.google.com/github/Bobojon-Py-Data-Scientist/Data-scientic/blob/main/Series_Metodlari.ipynb\" target=\"_parent\"><img src=\"https://colab.research.google.com/assets/colab-badge.svg\" alt=\"Open In Colab\"/></a>"
      ]
    },
    {
      "cell_type": "markdown",
      "source": [
        "#Pandas kutubxonasi\n",
        "##Series metodlari"
      ],
      "metadata": {
        "id": "Z73fV_eHKSSD"
      }
    },
    {
      "cell_type": "code",
      "source": [
        "import pandas as pd"
      ],
      "metadata": {
        "id": "ZYFq_FbFKiRK"
      },
      "execution_count": 19,
      "outputs": []
    },
    {
      "cell_type": "code",
      "source": [
        "import numpy as np\n",
        "from pandas import Series , DataFrame as df"
      ],
      "metadata": {
        "id": "kswx9ZzZLKQE"
      },
      "execution_count": 22,
      "outputs": []
    },
    {
      "cell_type": "code",
      "source": [
        "cars_dict =  {'Malibu':5000, 'Lacetti':2000, 'Tesla':400, 'Honda':3200, 'Toyota':2100}"
      ],
      "metadata": {
        "id": "NkkadaIyLWyK"
      },
      "execution_count": null,
      "outputs": []
    },
    {
      "cell_type": "code",
      "source": [
        "cars1 = Series(cars_dict, )"
      ],
      "metadata": {
        "id": "x9HbU8Q-P979"
      },
      "execution_count": 29,
      "outputs": []
    },
    {
      "cell_type": "code",
      "source": [
        "cars1"
      ],
      "metadata": {
        "id": "x9aZj32mQFeu",
        "outputId": "73a3c315-18cd-41b6-87c0-72afabdee2ff",
        "colab": {
          "base_uri": "https://localhost:8080/"
        }
      },
      "execution_count": 30,
      "outputs": [
        {
          "output_type": "execute_result",
          "data": {
            "text/plain": [
              "Malibu     5000\n",
              "Lacetti    2000\n",
              "Tesla       400\n",
              "Honda      3200\n",
              "Toyota     2100\n",
              "dtype: int64"
            ]
          },
          "metadata": {},
          "execution_count": 30
        }
      ]
    },
    {
      "cell_type": "code",
      "source": [
        "models = ['Toyota', 'Tesla','Lacetti', 'BMW', 'Malibu','Honda', 'Jaguar', 'Daewoo']"
      ],
      "metadata": {
        "id": "fKiy9GwALZ0P"
      },
      "execution_count": null,
      "outputs": []
    },
    {
      "cell_type": "code",
      "source": [
        "cars2 = Series(cars1, index=models) "
      ],
      "metadata": {
        "id": "9DeOI1IcLdoO"
      },
      "execution_count": 31,
      "outputs": []
    },
    {
      "cell_type": "code",
      "source": [
        "cars2"
      ],
      "metadata": {
        "colab": {
          "base_uri": "https://localhost:8080/"
        },
        "id": "NYvaiC3FLhjg",
        "outputId": "2e218320-5265-46f9-950a-fc0fabb5079b"
      },
      "execution_count": 32,
      "outputs": [
        {
          "output_type": "execute_result",
          "data": {
            "text/plain": [
              "Toyota     2100.0\n",
              "Tesla       400.0\n",
              "Lacetti    2000.0\n",
              "BMW           NaN\n",
              "Malibu     5000.0\n",
              "Honda      3200.0\n",
              "Jaguar        NaN\n",
              "Daewoo        NaN\n",
              "dtype: float64"
            ]
          },
          "metadata": {},
          "execution_count": 32
        }
      ]
    },
    {
      "cell_type": "code",
      "source": [
        "cars2.notnull()\n"
      ],
      "metadata": {
        "colab": {
          "base_uri": "https://localhost:8080/"
        },
        "id": "qtXa7bc1LrnU",
        "outputId": "0093f320-ab79-4b2c-8efe-7d319a373a81"
      },
      "execution_count": 34,
      "outputs": [
        {
          "output_type": "execute_result",
          "data": {
            "text/plain": [
              "Toyota      True\n",
              "Tesla       True\n",
              "Lacetti     True\n",
              "BMW        False\n",
              "Malibu      True\n",
              "Honda       True\n",
              "Jaguar     False\n",
              "Daewoo     False\n",
              "dtype: bool"
            ]
          },
          "metadata": {},
          "execution_count": 34
        }
      ]
    },
    {
      "cell_type": "code",
      "source": [
        "cars2.isnull()"
      ],
      "metadata": {
        "id": "aaqnCEliQRJ2",
        "outputId": "93b55ab3-176a-41e2-9392-cef8f212fb4f",
        "colab": {
          "base_uri": "https://localhost:8080/"
        }
      },
      "execution_count": 35,
      "outputs": [
        {
          "output_type": "execute_result",
          "data": {
            "text/plain": [
              "Toyota     False\n",
              "Tesla      False\n",
              "Lacetti    False\n",
              "BMW         True\n",
              "Malibu     False\n",
              "Honda      False\n",
              "Jaguar      True\n",
              "Daewoo      True\n",
              "dtype: bool"
            ]
          },
          "metadata": {},
          "execution_count": 35
        }
      ]
    },
    {
      "cell_type": "code",
      "source": [
        "cars2"
      ],
      "metadata": {
        "colab": {
          "base_uri": "https://localhost:8080/"
        },
        "id": "dVeg_uAeL9Ev",
        "outputId": "ebca37de-41bd-4a45-b0d1-679725234449"
      },
      "execution_count": 36,
      "outputs": [
        {
          "output_type": "execute_result",
          "data": {
            "text/plain": [
              "Toyota     2100.0\n",
              "Tesla       400.0\n",
              "Lacetti    2000.0\n",
              "BMW           NaN\n",
              "Malibu     5000.0\n",
              "Honda      3200.0\n",
              "Jaguar        NaN\n",
              "Daewoo        NaN\n",
              "dtype: float64"
            ]
          },
          "metadata": {},
          "execution_count": 36
        }
      ]
    },
    {
      "cell_type": "code",
      "source": [
        "cars1"
      ],
      "metadata": {
        "id": "FM9w92CpQtSz",
        "outputId": "6b82b087-9597-4c62-f6e2-2bc0f33059f8",
        "colab": {
          "base_uri": "https://localhost:8080/"
        }
      },
      "execution_count": 37,
      "outputs": [
        {
          "output_type": "execute_result",
          "data": {
            "text/plain": [
              "Malibu     5000\n",
              "Lacetti    2000\n",
              "Tesla       400\n",
              "Honda      3200\n",
              "Toyota     2100\n",
              "dtype: int64"
            ]
          },
          "metadata": {},
          "execution_count": 37
        }
      ]
    },
    {
      "cell_type": "code",
      "source": [
        "cars1+cars2"
      ],
      "metadata": {
        "id": "c-8LGuLJQvLZ",
        "outputId": "1df524df-610e-46c7-fd70-0356f648cc1a",
        "colab": {
          "base_uri": "https://localhost:8080/"
        }
      },
      "execution_count": 39,
      "outputs": [
        {
          "output_type": "execute_result",
          "data": {
            "text/plain": [
              "BMW            NaN\n",
              "Daewoo         NaN\n",
              "Honda       6400.0\n",
              "Jaguar         NaN\n",
              "Lacetti     4000.0\n",
              "Malibu     10000.0\n",
              "Tesla        800.0\n",
              "Toyota      4200.0\n",
              "dtype: float64"
            ]
          },
          "metadata": {},
          "execution_count": 39
        }
      ]
    },
    {
      "cell_type": "code",
      "source": [
        "cars2.name = 'Avtosalon'"
      ],
      "metadata": {
        "id": "EQspGlOYQx9Z"
      },
      "execution_count": 40,
      "outputs": []
    },
    {
      "cell_type": "code",
      "source": [
        "cars2.index.name = 'Modellar'"
      ],
      "metadata": {
        "id": "2H79zJbYRLmB"
      },
      "execution_count": 41,
      "outputs": []
    },
    {
      "cell_type": "code",
      "source": [
        "cars2"
      ],
      "metadata": {
        "id": "qgzFpNwiRfUm",
        "outputId": "23ac7f6e-fc1e-404a-eb43-802560281c8e",
        "colab": {
          "base_uri": "https://localhost:8080/"
        }
      },
      "execution_count": 42,
      "outputs": [
        {
          "output_type": "execute_result",
          "data": {
            "text/plain": [
              "Modellar\n",
              "Toyota     2100.0\n",
              "Tesla       400.0\n",
              "Lacetti    2000.0\n",
              "BMW           NaN\n",
              "Malibu     5000.0\n",
              "Honda      3200.0\n",
              "Jaguar        NaN\n",
              "Daewoo        NaN\n",
              "Name: Avtosalon, dtype: float64"
            ]
          },
          "metadata": {},
          "execution_count": 42
        }
      ]
    },
    {
      "cell_type": "code",
      "source": [
        "cars2.hasnans # ichida NAN qiyamti bor = True , yoq= False"
      ],
      "metadata": {
        "id": "5RZqayhbRgCA",
        "outputId": "e5bb0142-3e3e-4f01-c6d2-51226542d72c",
        "colab": {
          "base_uri": "https://localhost:8080/"
        }
      },
      "execution_count": 45,
      "outputs": [
        {
          "output_type": "execute_result",
          "data": {
            "text/plain": [
              "True"
            ]
          },
          "metadata": {},
          "execution_count": 45
        }
      ]
    },
    {
      "cell_type": "code",
      "source": [
        "cars2.is_unique  # qiymatlar takrorlanmas ekanini tekwiriw"
      ],
      "metadata": {
        "id": "uWjOzGykSx_I",
        "outputId": "a52342be-33db-4d55-eba1-215087166572",
        "colab": {
          "base_uri": "https://localhost:8080/"
        }
      },
      "execution_count": 47,
      "outputs": [
        {
          "output_type": "execute_result",
          "data": {
            "text/plain": [
              "False"
            ]
          },
          "metadata": {},
          "execution_count": 47
        }
      ]
    },
    {
      "cell_type": "code",
      "source": [
        "cars2.size  # Series hajmi"
      ],
      "metadata": {
        "id": "Xn7iJyQzTWR1",
        "outputId": "a3bd0807-7079-4e0e-f0ef-16785e6df514",
        "colab": {
          "base_uri": "https://localhost:8080/"
        }
      },
      "execution_count": 48,
      "outputs": [
        {
          "output_type": "execute_result",
          "data": {
            "text/plain": [
              "8"
            ]
          },
          "metadata": {},
          "execution_count": 48
        }
      ]
    },
    {
      "cell_type": "code",
      "source": [
        "cars2.iloc[2] # indeks tartib raqami boyicha chaqiriw"
      ],
      "metadata": {
        "id": "Z2cJnXF5Tekk",
        "outputId": "f2e19f3f-b09d-4fff-c3f1-e70cb87c934c",
        "colab": {
          "base_uri": "https://localhost:8080/"
        }
      },
      "execution_count": 50,
      "outputs": [
        {
          "output_type": "execute_result",
          "data": {
            "text/plain": [
              "2000.0"
            ]
          },
          "metadata": {},
          "execution_count": 50
        }
      ]
    },
    {
      "cell_type": "code",
      "source": [
        "cars2.iloc[-1]"
      ],
      "metadata": {
        "id": "V46c4nZFTrua",
        "outputId": "5eb44adf-7475-4219-c5cf-c8d2bf52e05b",
        "colab": {
          "base_uri": "https://localhost:8080/"
        }
      },
      "execution_count": 52,
      "outputs": [
        {
          "output_type": "execute_result",
          "data": {
            "text/plain": [
              "nan"
            ]
          },
          "metadata": {},
          "execution_count": 52
        }
      ]
    },
    {
      "cell_type": "code",
      "source": [
        "cars2['Honda']  # malumotlarniindeks boyicha murojaat qiliw"
      ],
      "metadata": {
        "id": "xvlQvuWZTvmP",
        "outputId": "99f2d39d-4e5e-4173-bb43-a5a3e0707a76",
        "colab": {
          "base_uri": "https://localhost:8080/"
        }
      },
      "execution_count": 53,
      "outputs": [
        {
          "output_type": "execute_result",
          "data": {
            "text/plain": [
              "3200.0"
            ]
          },
          "metadata": {},
          "execution_count": 53
        }
      ]
    },
    {
      "cell_type": "code",
      "source": [
        "cars2.max()  # max qiymat"
      ],
      "metadata": {
        "id": "oqYM0nUTT7NG",
        "outputId": "150837c7-5991-4006-b593-176983210ee5",
        "colab": {
          "base_uri": "https://localhost:8080/"
        }
      },
      "execution_count": 54,
      "outputs": [
        {
          "output_type": "execute_result",
          "data": {
            "text/plain": [
              "5000.0"
            ]
          },
          "metadata": {},
          "execution_count": 54
        }
      ]
    },
    {
      "cell_type": "code",
      "source": [
        "cars2.min()   # min qiymat"
      ],
      "metadata": {
        "id": "UZp-yyUzT-hj",
        "outputId": "86ddfb42-ece2-48eb-c09f-8b4739c7197b",
        "colab": {
          "base_uri": "https://localhost:8080/"
        }
      },
      "execution_count": 55,
      "outputs": [
        {
          "output_type": "execute_result",
          "data": {
            "text/plain": [
              "400.0"
            ]
          },
          "metadata": {},
          "execution_count": 55
        }
      ]
    },
    {
      "cell_type": "code",
      "source": [
        "cars2.mean()  #ortacha qiymat"
      ],
      "metadata": {
        "id": "QVcj6hhcUBog",
        "outputId": "ae72bd7a-d121-48a7-e76c-c194a933403c",
        "colab": {
          "base_uri": "https://localhost:8080/"
        }
      },
      "execution_count": 56,
      "outputs": [
        {
          "output_type": "execute_result",
          "data": {
            "text/plain": [
              "2540.0"
            ]
          },
          "metadata": {},
          "execution_count": 56
        }
      ]
    },
    {
      "cell_type": "code",
      "source": [],
      "metadata": {
        "id": "KQ1myDBxUGMD"
      },
      "execution_count": null,
      "outputs": []
    }
  ]
}